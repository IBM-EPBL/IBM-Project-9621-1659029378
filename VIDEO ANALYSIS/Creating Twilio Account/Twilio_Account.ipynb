{
  "nbformat": 4,
  "nbformat_minor": 0,
  "metadata": {
    "colab": {
      "provenance": []
    },
    "kernelspec": {
      "name": "python3",
      "display_name": "Python 3"
    },
    "language_info": {
      "name": "python"
    }
  },
  "cells": [
    {
      "cell_type": "code",
      "source": [
        "account_sid = 'AC46ca3fcb23ae6e84176c92c17a1c0856'\n",
        "auth_token = 'bcfd2b2b2079847bcf23c1870a1eb679'\n",
        "client = Client(account_sid, auth_token)\n",
        "message = client.messages \\\n",
        ".create(\n",
        "     body='Alert!!! Forest Fire is Detected',\n",
        "     from_='+13393562385',\n",
        "     to='+919894177014'\n",
        " )\n",
        "print(message.sid)"
      ],
      "metadata": {
        "id": "xds-1aQFZV5l"
      },
      "execution_count": null,
      "outputs": []
    },
    {
      "cell_type": "code",
      "source": [],
      "metadata": {
        "id": "lYgoeouBaMlQ"
      },
      "execution_count": null,
      "outputs": []
    }
  ]
}