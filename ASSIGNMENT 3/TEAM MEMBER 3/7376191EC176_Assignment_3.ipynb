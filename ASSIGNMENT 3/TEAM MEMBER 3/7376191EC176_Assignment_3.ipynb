{
  "nbformat": 4,
  "nbformat_minor": 0,
  "metadata": {
    "colab": {
      "provenance": []
    },
    "kernelspec": {
      "name": "python3",
      "display_name": "Python 3"
    },
    "language_info": {
      "name": "python"
    }
  },
  "cells": [
    {
      "cell_type": "code",
      "execution_count": null,
      "metadata": {
        "id": "SXat3voZoezU"
      },
      "outputs": [],
      "source": [
        "from tensorflow.keras.models import Sequential\n",
        "from tensorflow.keras.layers import Convolution2D,MaxPooling2D,Flatten,Dense\n",
        "from tensorflow.keras.preprocessing.image import ImageDataGenerator as idm\n",
        "import numpy as np\n",
        "import warnings\n",
        "#Supressing warnings\n",
        "warnings.filterwarnings('ignore')"
      ]
    },
    {
      "cell_type": "code",
      "source": [
        "from google.colab import drive\n",
        "drive.mount('/content/drive')"
      ],
      "metadata": {
        "colab": {
          "base_uri": "https://localhost:8080/"
        },
        "id": "BvQ6QJf_ol6C",
        "outputId": "10f24649-c233-4789-85f7-54a501a9d2ea"
      },
      "execution_count": null,
      "outputs": [
        {
          "output_type": "stream",
          "name": "stdout",
          "text": [
            "Drive already mounted at /content/drive; to attempt to forcibly remount, call drive.mount(\"/content/drive\", force_remount=True).\n"
          ]
        }
      ]
    },
    {
      "cell_type": "code",
      "source": [
        "# Creating augmentation on training variable\n",
        "train_flowers=idm(rescale=1./255,zoom_range=0.2,horizontal_flip=True)\n",
        "\n",
        "# Passing training data to train variable\n",
        "Xtrain = train_flowers.flow_from_directory('/content/drive/MyDrive/flowers/train',target_size=(76,76),class_mode='categorical',batch_size=100)"
      ],
      "metadata": {
        "colab": {
          "base_uri": "https://localhost:8080/"
        },
        "id": "LBTZkyqrovyM",
        "outputId": "66f9e5c1-27e8-4c3b-dd13-403bd54d2f00"
      },
      "execution_count": null,
      "outputs": [
        {
          "output_type": "stream",
          "name": "stdout",
          "text": [
            "Found 3482 images belonging to 5 classes.\n"
          ]
        }
      ]
    },
    {
      "cell_type": "code",
      "source": [
        "# Creating augmentation on testing variable\n",
        "test_flowers=idm(rescale=1./255)\n",
        "\n",
        "# Passing testing data to test variable\n",
        "Xtest = test_flowers.flow_from_directory('/content/drive/MyDrive/flowers/test',target_size=(76,76),class_mode='categorical',batch_size=100)"
      ],
      "metadata": {
        "colab": {
          "base_uri": "https://localhost:8080/"
        },
        "id": "GXBZal8TpCHh",
        "outputId": "96bda6a3-67f6-4ee8-8167-43c8ee79c415"
      },
      "execution_count": null,
      "outputs": [
        {
          "output_type": "stream",
          "name": "stdout",
          "text": [
            "Found 835 images belonging to 5 classes.\n"
          ]
        }
      ]
    },
    {
      "cell_type": "code",
      "source": [
        "Flower_model = Sequential()\n",
        "Flower_model.add(Convolution2D(32,(3,3),activation='relu',input_shape=(76,76,3)))\n",
        "Flower_model.add(MaxPooling2D(pool_size=(2,2)))\n",
        "Flower_model.add(Flatten())\n",
        "Flower_model.add(Dense(300,activation='relu'))\n",
        "Flower_model.add(Dense(150,activation='relu'))\n",
        "Flower_model.add(Dense(5,activation='softmax'))"
      ],
      "metadata": {
        "id": "mDL1xdDeM7Ep"
      },
      "execution_count": null,
      "outputs": []
    },
    {
      "cell_type": "code",
      "source": [
        "Flower_model.compile(optimizer='adam',loss='categorical_crossentropy',metrics=['accuracy'])"
      ],
      "metadata": {
        "id": "3LF2kBtINAXY"
      },
      "execution_count": null,
      "outputs": []
    },
    {
      "cell_type": "code",
      "source": [
        "Flower_model.fit_generator(Xtrain,steps_per_epoch= len (Xtrain),epochs= 8,validation_data=Xtest,validation_steps= len (Xtest))"
      ],
      "metadata": {
        "colab": {
          "base_uri": "https://localhost:8080/"
        },
        "id": "Dj3SwpxENFMR",
        "outputId": "79775bd2-3430-45ce-efd1-3457aee5c8e3"
      },
      "execution_count": null,
      "outputs": [
        {
          "output_type": "stream",
          "name": "stdout",
          "text": [
            "Epoch 1/8\n",
            "35/35 [==============================] - 694s 20s/step - loss: 1.9770 - accuracy: 0.3219 - val_loss: 1.2258 - val_accuracy: 0.5078\n",
            "Epoch 2/8\n",
            "35/35 [==============================] - 27s 764ms/step - loss: 1.1563 - accuracy: 0.5373 - val_loss: 1.2062 - val_accuracy: 0.5150\n",
            "Epoch 3/8\n",
            "35/35 [==============================] - 29s 814ms/step - loss: 1.0226 - accuracy: 0.6054 - val_loss: 1.2144 - val_accuracy: 0.5449\n",
            "Epoch 4/8\n",
            "35/35 [==============================] - 28s 799ms/step - loss: 0.9575 - accuracy: 0.6275 - val_loss: 1.1941 - val_accuracy: 0.5665\n",
            "Epoch 5/8\n",
            "35/35 [==============================] - 28s 788ms/step - loss: 0.8769 - accuracy: 0.6680 - val_loss: 1.0775 - val_accuracy: 0.6048\n",
            "Epoch 6/8\n",
            "35/35 [==============================] - 29s 827ms/step - loss: 0.8298 - accuracy: 0.6841 - val_loss: 0.9669 - val_accuracy: 0.6647\n",
            "Epoch 7/8\n",
            "35/35 [==============================] - 27s 779ms/step - loss: 0.7983 - accuracy: 0.6999 - val_loss: 1.1064 - val_accuracy: 0.5988\n",
            "Epoch 8/8\n",
            "35/35 [==============================] - 27s 762ms/step - loss: 0.7614 - accuracy: 0.7137 - val_loss: 1.0144 - val_accuracy: 0.6479\n"
          ]
        },
        {
          "output_type": "execute_result",
          "data": {
            "text/plain": [
              "<keras.callbacks.History at 0x7f9986e9e5d0>"
            ]
          },
          "metadata": {},
          "execution_count": 18
        }
      ]
    },
    {
      "cell_type": "code",
      "source": [
        "Flower_model.save('Flower.h5')"
      ],
      "metadata": {
        "id": "ZADQLguiNJs3"
      },
      "execution_count": null,
      "outputs": []
    },
    {
      "cell_type": "code",
      "source": [
        "from tensorflow.keras.preprocessing import image"
      ],
      "metadata": {
        "id": "8QepXShySqIX"
      },
      "execution_count": null,
      "outputs": []
    },
    {
      "cell_type": "code",
      "source": [
        "test_img=image.load_img('/content/drive/MyDrive/flowers/validate/rose.jpg',target_size=(76,76))\n",
        "test_img"
      ],
      "metadata": {
        "colab": {
          "base_uri": "https://localhost:8080/",
          "height": 93
        },
        "id": "6tMA0jBvSuu4",
        "outputId": "6b6fe6e3-6a98-4793-f6c9-2f69a7b9cd1b"
      },
      "execution_count": null,
      "outputs": [
        {
          "output_type": "execute_result",
          "data": {
            "text/plain": [
              "<PIL.Image.Image image mode=RGB size=76x76 at 0x7F9980CDAB90>"
            ],
            "image/png": "[encoded data removed]"
          },
          "metadata": {},
          "execution_count": 28
        }
      ]
    },
    {
      "cell_type": "code",
      "source": [
        "x=image.img_to_array(test_img)\n",
        "x=np.expand_dims(x,axis=0)\n",
        "predicted=np.argmax(Flower_model.predict(x))\n",
        "Prediction_category=['daisy','dandelion','rose','sunflower','tulip']\n",
        "Prediction_category[predicted]"
      ],
      "metadata": {
        "colab": {
          "base_uri": "https://localhost:8080/",
          "height": 52
        },
        "id": "U4-N5qtcTXpD",
        "outputId": "58d100b9-088e-4b56-94db-fa7d60ebfa16"
      },
      "execution_count": null,
      "outputs": [
        {
          "output_type": "stream",
          "name": "stdout",
          "text": [
            "1/1 [==============================] - 0s 29ms/step\n"
          ]
        },
        {
          "output_type": "execute_result",
          "data": {
            "text/plain": [
              "'rose'"
            ],
            "application/vnd.google.colaboratory.intrinsic+json": {
              "type": "string"
            }
          },
          "metadata": {},
          "execution_count": 29
        }
      ]
    },
    {
      "cell_type": "code",
      "source": [
        "test_img=image.load_img('/content/drive/MyDrive/flowers/validate/dandelion.jpg',target_size=(76,76))\n",
        "test_img"
      ],
      "metadata": {
        "colab": {
          "base_uri": "https://localhost:8080/",
          "height": 93
        },
        "id": "g7049BNWTDht",
        "outputId": "6e5688db-0ff6-4ac2-fce3-d3e736fe3460"
      },
      "execution_count": null,
      "outputs": [
        {
          "output_type": "execute_result",
          "data": {
            "text/plain": [
              "<PIL.Image.Image image mode=RGB size=76x76 at 0x7F997FC80CD0>"
            ],
            "image/png": "[encoded data removed]"
          },
          "metadata": {},
          "execution_count": 30
        }
      ]
    },
    {
      "cell_type": "code",
      "source": [
        "x=image.img_to_array(test_img)\n",
        "x=np.expand_dims(x,axis=0)\n",
        "predicted=np.argmax(Flower_model.predict(x))\n",
        "Prediction_category=['daisy','dandelion','rose','sunflower','tulip']\n",
        "Prediction_category[predicted]"
      ],
      "metadata": {
        "colab": {
          "base_uri": "https://localhost:8080/",
          "height": 52
        },
        "id": "SzKyxNMvUpyN",
        "outputId": "a76464d4-7a58-4e08-86b5-7fdabf95eda9"
      },
      "execution_count": null,
      "outputs": [
        {
          "output_type": "stream",
          "name": "stdout",
          "text": [
            "1/1 [==============================] - 0s 19ms/step\n"
          ]
        },
        {
          "output_type": "execute_result",
          "data": {
            "text/plain": [
              "'dandelion'"
            ],
            "application/vnd.google.colaboratory.intrinsic+json": {
              "type": "string"
            }
          },
          "metadata": {},
          "execution_count": 31
        }
      ]
    },
    {
      "cell_type": "code",
      "source": [
        "test_img=image.load_img('/content/drive/MyDrive/flowers/validate/sunflower.jpg',target_size=(76,76))\n",
        "test_img"
      ],
      "metadata": {
        "colab": {
          "base_uri": "https://localhost:8080/",
          "height": 93
        },
        "id": "j_z3n5KJUsni",
        "outputId": "e4acc60b-8d66-435d-eef7-4cac42c86034"
      },
      "execution_count": null,
      "outputs": [
        {
          "output_type": "execute_result",
          "data": {
            "text/plain": [
              "<PIL.Image.Image image mode=RGB size=76x76 at 0x7F9981EDF210>"
            ],
            "image/png": "[encoded data removed]"
          },
          "metadata": {},
          "execution_count": 32
        }
      ]
    },
    {
      "cell_type": "code",
      "source": [
        "x=image.img_to_array(test_img)\n",
        "x=np.expand_dims(x,axis=0)\n",
        "predicted=np.argmax(Flower_model.predict(x))\n",
        "Prediction_category=['daisy','dandelion','rose','sunflower','tulip']\n",
        "Prediction_category[predicted]"
      ],
      "metadata": {
        "colab": {
          "base_uri": "https://localhost:8080/",
          "height": 52
        },
        "id": "JasMwQr-U11q",
        "outputId": "4129aab3-8ae4-4031-da90-6e1530359450"
      },
      "execution_count": null,
      "outputs": [
        {
          "output_type": "stream",
          "name": "stdout",
          "text": [
            "1/1 [==============================] - 0s 27ms/step\n"
          ]
        },
        {
          "output_type": "execute_result",
          "data": {
            "text/plain": [
              "'sunflower'"
            ],
            "application/vnd.google.colaboratory.intrinsic+json": {
              "type": "string"
            }
          },
          "metadata": {},
          "execution_count": 33
        }
      ]
    },
    {
      "cell_type": "code",
      "source": [
        "test_img=image.load_img('/content/drive/MyDrive/flowers/validate/tulip.jpg',target_size=(76,76))\n",
        "test_img"
      ],
      "metadata": {
        "colab": {
          "base_uri": "https://localhost:8080/",
          "height": 93
        },
        "id": "35Rb6I5bU5K6",
        "outputId": "c334cacd-bdd5-480c-a69b-33e2f83fa0a7"
      },
      "execution_count": null,
      "outputs": [
        {
          "output_type": "execute_result",
          "data": {
            "text/plain": [
              "<PIL.Image.Image image mode=RGB size=76x76 at 0x7F9981698590>"
            ],
            "image/png": "[encoded data removed]"
          },
          "metadata": {},
          "execution_count": 34
        }
      ]
    },
    {
      "cell_type": "code",
      "source": [
        "x=image.img_to_array(test_img)\n",
        "x=np.expand_dims(x,axis=0)\n",
        "predicted=np.argmax(Flower_model.predict(x))\n",
        "Prediction_category=['daisy','dandelion','rose','sunflower','tulip']\n",
        "Prediction_category[predicted]"
      ],
      "metadata": {
        "colab": {
          "base_uri": "https://localhost:8080/",
          "height": 52
        },
        "id": "2PLRxRkHU-dl",
        "outputId": "fb484b46-98d5-4edf-e0bf-2879df1d6e61"
      },
      "execution_count": null,
      "outputs": [
        {
          "output_type": "stream",
          "name": "stdout",
          "text": [
            "1/1 [==============================] - 0s 21ms/step\n"
          ]
        },
        {
          "output_type": "execute_result",
          "data": {
            "text/plain": [
              "'tulip'"
            ],
            "application/vnd.google.colaboratory.intrinsic+json": {
              "type": "string"
            }
          },
          "metadata": {},
          "execution_count": 35
        }
      ]
    }
  ]
}